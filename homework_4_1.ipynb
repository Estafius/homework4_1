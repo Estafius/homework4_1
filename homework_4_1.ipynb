{
 "cells": [
  {
   "cell_type": "code",
   "execution_count": 1,
   "metadata": {
    "collapsed": true
   },
   "outputs": [],
   "source": [
    "import pandas as pd"
   ]
  },
  {
   "cell_type": "code",
   "execution_count": 2,
   "metadata": {
    "collapsed": true
   },
   "outputs": [],
   "source": [
    "def check_file(year):\n",
    "    list_popular_names = []\n",
    "    popular = pd.read_csv('./names/yob'+year+'.txt', names=['Name','Gender','Count']).head(3)\n",
    "    for name in popular['Name']:\n",
    "        list_popular_names.append(name)\n",
    "    return list_popular_names"
   ]
  },
  {
   "cell_type": "code",
   "execution_count": 3,
   "metadata": {},
   "outputs": [],
   "source": [
    "def count_gender_num(year):\n",
    "    count_gender = pd.read_csv('./names/yob' + year + '.txt', names=['Name', 'Gender', 'Count'])\n",
    "    count_boys = count_gender[count_gender.Gender == 'M'].Count.sum()\n",
    "    count_girls = count_gender[count_gender.Gender == 'F'].Count.sum()\n",
    "    return count_boys,count_girls"
   ]
  },
  {
   "cell_type": "code",
   "execution_count": 4,
   "metadata": {
    "collapsed": true
   },
   "outputs": [],
   "source": [
    "def main():\n",
    "    i = 0\n",
    "    for i in range(3):\n",
    "        print('Введите год:')\n",
    "        year = input()\n",
    "        popular_name = check_file(year)\n",
    "        print('Три популярных имени в ', year, ' году= ', popular_name)\n",
    "        i = i + 1\n",
    "        count_boys,count_girls = count_gender_num(year)\n",
    "        print('Количество лиц мужского пола = ',count_boys, '\\nКоличество лиц женского пола = ', count_girls)"
   ]
  },
  {
   "cell_type": "code",
   "execution_count": 5,
   "metadata": {},
   "outputs": [
    {
     "name": "stdout",
     "output_type": "stream",
     "text": [
      "Введите год:\n",
      "1900\n",
      "Три популярных имени в  1900  году=  ['Mary', 'Helen', 'Anna']\n",
      "Количество лиц мужского пола =  150490 \n",
      "Количество лиц женского пола =  299822\n",
      "Введите год:\n",
      "1950\n",
      "Три популярных имени в  1950  году=  ['Linda', 'Mary', 'Patricia']\n",
      "Количество лиц мужского пола =  1791474 \n",
      "Количество лиц женского пола =  1713450\n",
      "Введите год:\n",
      "2000\n",
      "Три популярных имени в  2000  году=  ['Emily', 'Hannah', 'Madison']\n",
      "Количество лиц мужского пола =  1962556 \n",
      "Количество лиц женского пола =  1814738\n"
     ]
    }
   ],
   "source": [
    "main()"
   ]
  }
 ],
 "metadata": {
  "kernelspec": {
   "display_name": "Python 3",
   "language": "python",
   "name": "python3"
  },
  "language_info": {
   "codemirror_mode": {
    "name": "ipython",
    "version": 3.0
   },
   "file_extension": ".py",
   "mimetype": "text/x-python",
   "name": "python",
   "nbconvert_exporter": "python",
   "pygments_lexer": "ipython3",
   "version": "3.6.0"
  }
 },
 "nbformat": 4,
 "nbformat_minor": 0
}