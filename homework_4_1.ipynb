{
 "cells": [
  {
   "cell_type": "code",
   "execution_count": 103,
   "metadata": {
    "collapsed": true
   },
   "outputs": [],
   "source": [
    "import pandas as pd"
   ]
  },
  {
   "cell_type": "code",
   "execution_count": 104,
   "metadata": {
    "collapsed": true
   },
   "outputs": [],
   "source": [
    "def check_file(year_list):\n",
    "    list_popular_names = []\n",
    "    for year in year_list:\n",
    "     popular = pd.read_csv('./names/yob'+year+'.txt', names=['Name','Gender','Count']).head(1)\n",
    "     for name in popular['Name']:\n",
    "        list_popular_names.append(name)\n",
    "    return list_popular_names"
   ]
  },
  {
   "cell_type": "code",
   "execution_count": 105,
   "metadata": {},
   "outputs": [],
   "source": [
    "def count_gender_num(year_list):\n",
    "    count_boys_list =[]\n",
    "    count_girls_list =[]\n",
    "    count_girls_boys ={}\n",
    "    for year in year_list:\n",
    "     count_gender = pd.read_csv('./names/yob' + year + '.txt', names=['Name', 'Gender', 'Count'])\n",
    "     count_boys = count_gender[count_gender.Gender == 'M'].Count.sum()\n",
    "     count_girls = count_gender[count_gender.Gender == 'F'].Count.sum()\n",
    "     count_boys_list.append(count_boys)\n",
    "     count_girls_list.append(count_gender[count_gender.Gender == 'F'].Count.sum())  \n",
    "    count_girls_boys = dict (M = count_boys_list, F = count_girls_list)\n",
    "    return count_girls_boys  "
   ]
  },
  {
   "cell_type": "code",
   "execution_count": 106,
   "metadata": {},
   "outputs": [
    {
     "name": "stdout",
     "output_type": "stream",
     "text": [
      "Три популярных имени в  ['1900', '1950', '2000']  годах=  ['Mary', 'Linda', 'Emily']\n",
      "\n",
      "Динамика изменения количества имен за указанные года в разрезе полов для '1900','1950','2000'\n",
      " {'M': [150490, 1791474, 1962556], 'F': [299822, 1713450, 1814738]}\n"
     ]
    }
   ],
   "source": [
    "    i = 0\n",
    "    year_list = ['1900','1950','2000']\n",
    "    popular_name = check_file(year_list)\n",
    "    print('Три популярных имени в ', year_list, ' годах= ', popular_name)\n",
    "    count_girls_boys = count_gender_num(year_list)\n",
    "    print(\"\\nДинамика изменения количества имен за указанные года в разрезе полов для '1900','1950','2000'\\n\", count_girls_boys)"
   ]
  },
  {
   "cell_type": "code",
   "execution_count": null,
   "metadata": {},
   "outputs": [],
   "source": []
  }
 ],
 "metadata": {
  "kernelspec": {
   "display_name": "Python 3",
   "language": "python",
   "name": "python3"
  },
  "language_info": {
   "codemirror_mode": {
    "name": "ipython",
    "version": 3
   },
   "file_extension": ".py",
   "mimetype": "text/x-python",
   "name": "python",
   "nbconvert_exporter": "python",
   "pygments_lexer": "ipython3",
   "version": "3.6.0"
  }
 },
 "nbformat": 4,
 "nbformat_minor": 1
}
